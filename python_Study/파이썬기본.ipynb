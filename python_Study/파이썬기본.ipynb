{
 "cells": [
  {
   "cell_type": "markdown",
   "metadata": {},
   "source": [
    "### 자주 사용하는 쥬피터노트북 단축키\n",
    "+ Y - 해당 셀을 코드 작성 셀로 변경\n",
    "+ M - 해당 셀을 마크다운 셀로 변경\n",
    "+ Crtl + Enter - 선택한 셀 실행\n",
    "+ D(D) 또는 X - 선택한 셀을 삭제\n",
    "+ A - 선택한 셀 위에 새로운 셀 추가\n",
    "+ B - 선택한 셀 아래에 새로운 셀 추가 "
   ]
  },
  {
   "cell_type": "markdown",
   "metadata": {},
   "source": [
    "### 파이썬의 출력문\n",
    "+ 파이썬은 명령어 종료 후 세미콜론(;) X"
   ]
  },
  {
   "cell_type": "code",
   "execution_count": 11,
   "metadata": {},
   "outputs": [
    {
     "name": "stdout",
     "output_type": "stream",
     "text": [
      "10\n",
      "java\n",
      "python\n",
      "30\n"
     ]
    }
   ],
   "source": [
    "# 숫자 출력\n",
    "print(10)\n",
    "\n",
    "# 문자 출력: 출력하고자 하는 문자를 '' 혹은 \"\" 로 감싼다\n",
    "print('java')\n",
    "print(\"python\")\n",
    "\n",
    "# 출력문 안의 내용이 연산가능하다면 연산 결과를 출력\n",
    "print(10+20)\n",
    "\n",
    "# 자바와 다르게 숫자와 문자끼리의 합은 오류가 발생한다\n",
    "# print(10+'python') ->오류발생\n"
   ]
  },
  {
   "cell_type": "markdown",
   "metadata": {},
   "source": [
    "### 파이썬의 연산자"
   ]
  },
  {
   "cell_type": "code",
   "execution_count": 15,
   "metadata": {},
   "outputs": [
    {
     "name": "stdout",
     "output_type": "stream",
     "text": [
      "3.3333333333333335\n",
      "3\n",
      "1\n",
      "30\n",
      "8\n"
     ]
    }
   ],
   "source": [
    "# 나눗셈 연산 결과는 소수점 자리까지 결과가 출력!\n",
    "print(10/3)\n",
    "\n",
    "# 몫만 계산하는 연산자\n",
    "print(10//3)\n",
    "\n",
    "# 나머지를 구하는 연산자\n",
    "print(10%3)\n",
    "\n",
    "print(10*3)\n",
    "# 거듭제곱 연산자\n",
    "print(2**3)\n",
    "\n",
    "#  < , < , >= , <= , != 는 자바와 동일\n"
   ]
  },
  {
   "cell_type": "markdown",
   "metadata": {},
   "source": [
    "### 파이썬에서는 자료형(기본)\n",
    "+ 파이썬은 눈에 보이지 않는 자료형이 존재"
   ]
  },
  {
   "cell_type": "code",
   "execution_count": 27,
   "metadata": {},
   "outputs": [
    {
     "name": "stdout",
     "output_type": "stream",
     "text": [
      "<class 'int'>\n",
      "<class 'float'>\n",
      "<class 'str'>\n",
      "-----------------------\n",
      "<class 'int'>\n",
      "<class 'float'>\n",
      "<class 'str'>\n",
      "-----------------------\n",
      "<class 'bool'>\n"
     ]
    }
   ],
   "source": [
    "a=10\n",
    "print(type(a))\n",
    "b=10.5\n",
    "print(type(b))\n",
    "c='python'\n",
    "print(type(c))\n",
    "\n",
    "print('-----------------------')\n",
    "\n",
    "# 파이썬에서의 기본 자료형 변환\n",
    "aa= int(\"10\")\n",
    "print(type(aa))\n",
    "bb= float(\"10.5\")\n",
    "print(type(bb))\n",
    "cc= str(100)\n",
    "print(type(cc))\n",
    "\n",
    "print('-----------------------')\n",
    "\n",
    "# 참 또는 거짓\n",
    "bool1 = True\n",
    "bool2 = False\n",
    "print(type(bool1))\n"
   ]
  },
  {
   "cell_type": "markdown",
   "metadata": {},
   "source": [
    "### 많이 사용하는 파이썬의 자료형\n",
    "+ list(배열)\n",
    "+ dictionary\n",
    "+ set\n",
    "+ tuple"
   ]
  },
  {
   "cell_type": "code",
   "execution_count": 37,
   "metadata": {},
   "outputs": [
    {
     "name": "stdout",
     "output_type": "stream",
     "text": [
      "[1, 2, 3, 4, 5]\n",
      "<class 'list'>\n",
      "[1, 2.5, 'python']\n",
      "2.5\n",
      "20\n",
      "20\n"
     ]
    }
   ],
   "source": [
    "#  list 생성\n",
    "list_1=[1,2,3,4,5]\n",
    "print(list_1)\n",
    "print(type(list_1))\n",
    "\n",
    "list_2=[1, 2.5, 'python']\n",
    "print(list_2)\n",
    "print(list_2[1])\n",
    "\n",
    "# dictionary 생성\n",
    "dic_1 ={\n",
    "    'name': '홍',\n",
    "    'age' :  20,\n",
    "    'addr': '울산시'\n",
    "}\n",
    "print(dic_1['age'])\n",
    "print(dic_1.get('age'))\n"
   ]
  },
  {
   "cell_type": "code",
   "execution_count": 41,
   "metadata": {},
   "outputs": [
    {
     "name": "stdout",
     "output_type": "stream",
     "text": [
      "<class 'dict'>\n",
      "파이썬반\n"
     ]
    }
   ],
   "source": [
    "school= {\n",
    "    'schoolName' : '그린학교',\n",
    "    'classInfo' :  [\n",
    "        {'className': '자바반', 'stuCnt':30}, \n",
    "        {'className': '파이썬반', 'stuCnt': 40}\n",
    "        ]\n",
    "}\n",
    "\n",
    "print(type(school))\n",
    "print(school['classInfo'][1]['className'])"
   ]
  }
 ],
 "metadata": {
  "kernelspec": {
   "display_name": "base",
   "language": "python",
   "name": "python3"
  },
  "language_info": {
   "codemirror_mode": {
    "name": "ipython",
    "version": 3
   },
   "file_extension": ".py",
   "mimetype": "text/x-python",
   "name": "python",
   "nbconvert_exporter": "python",
   "pygments_lexer": "ipython3",
   "version": "3.12.2"
  }
 },
 "nbformat": 4,
 "nbformat_minor": 2
}
