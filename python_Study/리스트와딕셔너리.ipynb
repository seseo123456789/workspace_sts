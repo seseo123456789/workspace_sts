{
 "cells": [
  {
   "cell_type": "markdown",
   "metadata": {},
   "source": [
    "### 리스트(List)\n",
    "+ 리스트 변수 생성 시 list라는 이름의 변수 생성은 금지!!"
   ]
  },
  {
   "cell_type": "code",
   "execution_count": 2,
   "metadata": {},
   "outputs": [],
   "source": [
    "# 빈 리스트를 생성\n",
    "list1= []\n",
    "\n",
    "# 초기 값을 갖는 리스트 생성\n",
    "# 자바와 다르게 다른 자료형이 리스트의 요소로 들어올 수 있음.\n",
    "list2=[1, 1.1,'python']"
   ]
  },
  {
   "cell_type": "code",
   "execution_count": 18,
   "metadata": {},
   "outputs": [
    {
     "name": "stdout",
     "output_type": "stream",
     "text": [
      "[1, 1.1, 'python']\n",
      "1, 1.1, python, 1.1\n"
     ]
    }
   ],
   "source": [
    "# 리스트의 값 읽기\n",
    "print(list2)\n",
    "\n",
    "# 반복문을 이용하여 리스트의 모든 데이터를 출력\n",
    "for i in list2 :\n",
    "    print(i ,end=', ')\n",
    "\n",
    "# 각각의 요소를 출력\n",
    "print(list2[1])    "
   ]
  },
  {
   "cell_type": "code",
   "execution_count": 30,
   "metadata": {},
   "outputs": [
    {
     "name": "stdout",
     "output_type": "stream",
     "text": [
      "1 [0, 1, 2, 3]\n",
      "2 [0, 1, 2, 3, 4]\n",
      "3 [6, 7, 8, 9, 10]\n",
      "4 [0, 1, 2, 3, 4, 5, 6, 7, 8, 9, 10]\n",
      "5 [8, 9, 10]\n"
     ]
    }
   ],
   "source": [
    "# 슬라이싱 : 배열에서 안에 있는 자료 꺼내기\n",
    "list3=[0, 1, 2, 3, 4, 5, 6, 7, 8, 9, 10]\n",
    "# [a, b]\n",
    "# a: 시작 인덱스\n",
    "# b: 마지막 인덱스 전까지!\n",
    "print(1, list3[0:4])\n",
    "\n",
    "# 처음부터 [5]까지\n",
    "print(2, list3[:5])\n",
    "# [6] 부터 끝까지\n",
    "print(3, list3[6:])\n",
    "# 처음~ 끝\n",
    "print(4,list3[:])\n",
    "# 뒤에서부터 3번째\n",
    "print(5, list3[-3:])"
   ]
  },
  {
   "cell_type": "code",
   "execution_count": 76,
   "metadata": {},
   "outputs": [
    {
     "name": "stdout",
     "output_type": "stream",
     "text": [
      "ja\n",
      "jpg\n",
      "jpg\n",
      "jpg\n",
      "15\n",
      "3\n",
      "2\n",
      "11\n",
      "안녕하세요\n",
      "또 만나요\n",
      "만나서 반가웠어요\n"
     ]
    }
   ],
   "source": [
    "# 슬라이싱의 또 다른 활용 : 문자가 여러개 있는 배열로 인식함(ex) j 는 [0], a 는[2] , p 는 [5])\n",
    "test_str='java python c++'\n",
    "print(test_str[0:2])\n",
    "\n",
    "# 문제\n",
    "str_arr=[\n",
    "    '안녕하세요.jpg',\n",
    "    '또 만나요.jpg',\n",
    "    '만나서 반가웠어요.jpg'\n",
    "]\n",
    "\n",
    "for e in str_arr:\n",
    "    print(e[-3:])\n",
    "# .jpg 라는 문자열을 제외한 문자열만 추출하여 출력  \n",
    "\n",
    "# 배열의 길이 \n",
    "print(len(test_str))  \n",
    "print(len(str_arr))\n",
    "\n",
    "# 문자열에서 특정 문자열의 위치값 찾아내기\n",
    "str1='python'\n",
    "print(str1.index('t'))\n",
    "str2 = 'java.python.c++'\n",
    "# rindex : 가장 마지막 '.'  위치 확인하기\n",
    "print(str2.rindex('.'))\n",
    "\n",
    "# str_arr 에서 .jpg라는 문자열을 제외한 나머지 문자열만 추출하여 출력\n",
    "for e in str_arr:\n",
    "    print(e[:e.rindex('.')])"
   ]
  },
  {
   "cell_type": "code",
   "execution_count": 87,
   "metadata": {},
   "outputs": [
    {
     "name": "stdout",
     "output_type": "stream",
     "text": [
      "[1, 2.2, 10.7, '자바']\n",
      "[1, 8, 2.2, 10.7, '자바']\n"
     ]
    }
   ],
   "source": [
    "# 리스트에 데이터 추가하기\n",
    "list4=[]\n",
    "# append : 리스트의 가장 마지막에 데이터 추가\n",
    "list4.append(1)\n",
    "list4.append(2.2)\n",
    "list4.append(10.7)\n",
    "list4.append('자바')\n",
    "print(list4)\n",
    "\n",
    "# insert(위치, 값):: 리스트에서 원하는 위치에 데이터 추가\n",
    "list4.insert(1,8)\n",
    "print(list4)"
   ]
  },
  {
   "cell_type": "code",
   "execution_count": 92,
   "metadata": {},
   "outputs": [
    {
     "name": "stdout",
     "output_type": "stream",
     "text": [
      "[]\n"
     ]
    }
   ],
   "source": [
    "# 리스트에서 데이터 삭제하기\n",
    "# del(리스트명 [인덱스])\n",
    "#del(list4[2])\n",
    "#print(list4)\n",
    "\n",
    "list5=[1,2,3,4,5,6,7,8,9]\n",
    "#del(list5[:3])\n",
    "#print(list5)\n",
    "\n",
    "# 리스트명.remove(삭제할 값)\n",
    "#list5.remove(1)\n",
    "#print(list5)\n",
    "\n",
    "#리스트의 모든 내용 지우기\n",
    "# 첫번째 방법\n",
    "list5.clear()\n",
    "print(list5)\n",
    "# 두번째 방법\n",
    "list5=[1,2,3,4,5,6,7,8,9]\n",
    "del(list5[:])\n",
    "# 세번째 방법 * list 통 자체가 날라감\n",
    "# del(list5)"
   ]
  },
  {
   "cell_type": "markdown",
   "metadata": {},
   "source": [
    "###  딕셔너리(Dictionary)\n"
   ]
  },
  {
   "cell_type": "code",
   "execution_count": 93,
   "metadata": {},
   "outputs": [],
   "source": [
    "# 딕셔너리 생성\n",
    "dic1={}\n",
    "dic2={'이름': '홍길동', '나이':20}"
   ]
  },
  {
   "cell_type": "code",
   "execution_count": 109,
   "metadata": {},
   "outputs": [
    {
     "name": "stdout",
     "output_type": "stream",
     "text": [
      "{'이름': '홍길동', '나이': 20}\n",
      "첫번째방법: 홍길동\n",
      "두번재방법: 홍길동\n",
      "key=이름, value=홍길동\n",
      "key=나이, value=20\n"
     ]
    }
   ],
   "source": [
    "# 딕셔너리 데이터 출력\n",
    "print(dic2)\n",
    "\n",
    "# 하나의 데이터만 출력\n",
    "print('첫번째방법:',dic2['이름'])\n",
    "print('두번재방법:',dic2.get('이름'))\n",
    "\n",
    "#반복문 이용하기\n",
    "for key in dic2:\n",
    "    #print(e)\n",
    "    print(f'key={key}, value={dic2[key]}')"
   ]
  },
  {
   "cell_type": "code",
   "execution_count": 114,
   "metadata": {},
   "outputs": [
    {
     "name": "stdout",
     "output_type": "stream",
     "text": [
      "{'이름': '홍길동'}\n",
      "{'이름': '홍길동', '연락처': '010-1111-2222'}\n",
      "{'이름': '이순신', '연락처': '010-1111-2222'}\n",
      "{'연락처': '010-1111-2222'}\n"
     ]
    }
   ],
   "source": [
    "# 딕셔너리에 데이터 추가하기\n",
    "dic3={}\n",
    "\n",
    "# key가 이름이고 value는 '홍길동'인 데이터 추가\n",
    "dic3['이름']='홍길동'\n",
    "print(dic3)\n",
    "dic3['연락처']='010-1111-2222'\n",
    "print(dic3)\n",
    "\n",
    "# dic3 안에 키가 '이름'인 데이터의 값을 '이순신'으로 변경\n",
    "dic3['이름']='이순신'\n",
    "print(dic3)\n",
    "\n",
    "# 데이터 삭제하기\n",
    "# 키가 '이름'인 데이터를 삭제\n",
    "del(dic3['이름'])\n",
    "print(dic3)\n",
    "# 딕셔너리 안의 모든 데이터 삭제\n",
    "#dic3.clear()"
   ]
  },
  {
   "cell_type": "code",
   "execution_count": 131,
   "metadata": {},
   "outputs": [
    {
     "name": "stdout",
     "output_type": "stream",
     "text": [
      "[2, 4, 6, 8, 10]\n",
      "6.0\n",
      "10\n",
      "2\n"
     ]
    }
   ],
   "source": [
    "# 리스트 문제 1\n",
    "#빈 리스트를 생성하고\n",
    "#키보드로 데이터 5개를 입력받아 입력받은 데이터를 리스트에 추가\n",
    "#리스트의 모든 내용 출력\n",
    "\n",
    "list6=[]\n",
    "#num1=input('정수1:')\n",
    "#num2=input('정수2:')\n",
    "#num3=input('정수3:')\n",
    "#num4=input('정수4:')\n",
    "#num5=input('정수5:')\n",
    "#list6.append(num1)\n",
    "#list6.append(num2)\n",
    "\n",
    "#for i in range(0,5):\n",
    "#    num1= input(f'{i+1}번째 값:')\n",
    "#    list6.append(num1)\n",
    "#print(list6)\n",
    "\n",
    "# 리스트 문제 2 \n",
    "# 아래 제시된 리스트에서 사용자가 입력한 값을 찾아 삭제하는 코드 작성\n",
    "#test_list2=[1,2,3,4,5]\n",
    "#num6=int(input('입력값:'))\n",
    "\n",
    "#if num6 in test_list2:\n",
    "#    test_list2.remove(num6)\n",
    "#    print(f'삭제결과: {test_list2}')\n",
    "#else:\n",
    "#    print('삭제하려는 데이터가 존재하지 않아요')    \n",
    "\n",
    "\n",
    "\n",
    "#리스트 문제 3\n",
    "#1~10까지의 수 중 짝수만 리스트에 저장하고 리스트에 저장된 데이터의 합 출력\n",
    "list7=[]\n",
    "\n",
    "for i in range(1,11):\n",
    "    if i % 2 == 0 :\n",
    "      list7.append(i)\n",
    "    \n",
    "print(list7)\n",
    "# 평균\n",
    "print(sum(list7)/len(list7))\n",
    "\n",
    "print(max(list7))\n",
    "print(min(list7))\n"
   ]
  },
  {
   "cell_type": "code",
   "execution_count": 142,
   "metadata": {},
   "outputs": [],
   "source": [
    "del sum"
   ]
  },
  {
   "cell_type": "code",
   "execution_count": 143,
   "metadata": {},
   "outputs": [
    {
     "data": {
      "text/plain": [
       "15"
      ]
     },
     "execution_count": 143,
     "metadata": {},
     "output_type": "execute_result"
    }
   ],
   "source": [
    "\n",
    "list8=[1,2,3,4,5]\n",
    "\n",
    "sum(list8)"
   ]
  },
  {
   "cell_type": "code",
   "execution_count": 147,
   "metadata": {},
   "outputs": [
    {
     "name": "stdout",
     "output_type": "stream",
     "text": [
      "{'이름1': '홍', '나이1': 30, '국어점수1': None, '영어점수1': None, '국어1': 50, '영어1': 50, '총점': 100}\n"
     ]
    }
   ],
   "source": [
    "# 딕셔너리 문제\n",
    "# 빈 딕셔너리 객체를 생성한 후\n",
    "# 이름, 나이, 국어점수, 영어점수를 key로 추가하고\n",
    "# 각각의 key에 대응하는 value는 키보드로 입력받아\n",
    "# 딕셔너리 객체에 저장하시오, 그리고 출력!\n",
    "        # 내가푼거\n",
    "        # dic6={\n",
    "        #     '이름':input('이름:'),\n",
    "        #     '나이': int(input('나이:')),\n",
    "        #     '국어점수': int(input('국어점수:')),\n",
    "        #     '영어점수': int(input('영어점수:'))\n",
    "        # }\n",
    "        #print(dic6)  \n",
    "\n",
    "# 위에서 만든 딕셔너리 데이터에 '총점' 키를 추가하고\n",
    "# 해당 키의 값으로 국어점수와 영어점수의 합을 저장\n",
    "        # print(dic6['국어점수']+dic6['영어점수'])\n",
    "        # dic6['총점']=dic6['국어점수']+dic6['영어점수']\n",
    "        # print(dic6)\n",
    "\n",
    "# 참고사항\n",
    "# 자바방식:   if(name ==null)  if(name !=null)\n",
    "# 파이썬방식: if name is None:  if name is not None:\n",
    "\n",
    "test_dic={}\n",
    "test_dic['이름1'] = None\n",
    "test_dic['나이1'] = None\n",
    "test_dic['국어점수1'] = None\n",
    "test_dic['영어점수1'] = None\n",
    "\n",
    "test_dic['이름1'] = input('이름1: ')\n",
    "test_dic['나이1'] = int(input('나이1: '))\n",
    "test_dic['국어1'] = int(input('국어1: '))\n",
    "test_dic['영어1'] = int(input('영어1: '))\n",
    "test_dic['총점']=test_dic['국어1']+test_dic['영어1']\n",
    "print(test_dic)\n",
    "\n"
   ]
  },
  {
   "cell_type": "code",
   "execution_count": 154,
   "metadata": {},
   "outputs": [
    {
     "name": "stdout",
     "output_type": "stream",
     "text": [
      "95\n",
      "{'stu_no': [1, 2, 3, 4, 5], 'stu_name': ['김자바', '이자바', '박자바', '최자바', '정자바'], 'stu_score': [85, 65, 70, 80, 95], 'stu_grade': ['B', 'C', 'C', 'B', 'A']}\n"
     ]
    }
   ],
   "source": [
    "class_room_date={\n",
    "    'stu_no':[1,2,3,4,5],\n",
    "    'stu_name':['김자바','이자바','박자바','최자바','정자바'],\n",
    "    'stu_score':[85,65,70,80,95]\n",
    "}\n",
    "\n",
    "# 최고점수 출력\n",
    "print(max(class_room_date['stu_score']))\n",
    "\n",
    "# 위의 딕셔너리 데이터에 'stu_grade' 라는 키를 추가하고\n",
    "# 해당 키에 대한 값은 아래의 글을 참고한다\n",
    "# 90 <= 점수 일때 : A\n",
    "# 80 <= 점수 < 90 : B\n",
    "# 점수 < 80 : C\n",
    "\n",
    "class_room_date['stu_grade']=[]\n",
    "stu_grade=''\n",
    "\n",
    "for score in class_room_date['stu_score']:\n",
    "        if 90 <= score:\n",
    "           grade='A'\n",
    "            \n",
    "        elif 80 <= score: \n",
    "           grade='B'\n",
    "        else :              \n",
    "            grade='C'\n",
    "        class_room_date['stu_grade'].append(grade)\n",
    "\n",
    "print(class_room_date)        "
   ]
  }
 ],
 "metadata": {
  "kernelspec": {
   "display_name": "Python 3",
   "language": "python",
   "name": "python3"
  },
  "language_info": {
   "codemirror_mode": {
    "name": "ipython",
    "version": 3
   },
   "file_extension": ".py",
   "mimetype": "text/x-python",
   "name": "python",
   "nbconvert_exporter": "python",
   "pygments_lexer": "ipython3",
   "version": "3.12.2"
  }
 },
 "nbformat": 4,
 "nbformat_minor": 2
}
